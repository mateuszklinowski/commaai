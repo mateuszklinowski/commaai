{
  "nbformat": 4,
  "nbformat_minor": 0,
  "metadata": {
    "colab": {
      "name": "Commaai_with_absdiff.ipynb",
      "provenance": [],
      "collapsed_sections": [],
      "machine_shape": "hm",
      "include_colab_link": true
    },
    "kernelspec": {
      "name": "python3",
      "display_name": "Python 3"
    },
    "accelerator": "GPU"
  },
  "cells": [
    {
      "cell_type": "markdown",
      "metadata": {
        "id": "view-in-github",
        "colab_type": "text"
      },
      "source": [
        "<a href=\"https://colab.research.google.com/github/mateuszklinowski/commaai/blob/master/Commaai_with_absdiff.ipynb\" target=\"_parent\"><img src=\"https://colab.research.google.com/assets/colab-badge.svg\" alt=\"Open In Colab\"/></a>"
      ]
    },
    {
      "cell_type": "code",
      "metadata": {
        "id": "Wexar1cZdSVf",
        "colab_type": "code",
        "outputId": "1c7583d2-48b0-4160-cdc9-541693b71d10",
        "colab": {
          "base_uri": "https://localhost:8080/",
          "height": 35
        }
      },
      "source": [
        "%tensorflow_version 2.x"
      ],
      "execution_count": 0,
      "outputs": [
        {
          "output_type": "stream",
          "text": [
            "TensorFlow 2.x selected.\n"
          ],
          "name": "stdout"
        }
      ]
    },
    {
      "cell_type": "code",
      "metadata": {
        "id": "cIoFKBIuXnR3",
        "colab_type": "code",
        "outputId": "91a94b72-56ac-4092-b7cf-54c915741493",
        "colab": {
          "base_uri": "https://localhost:8080/",
          "height": 35
        }
      },
      "source": [
        "\n",
        "import tensorflow as tf\n",
        "from tensorflow.keras.preprocessing.image import ImageDataGenerator\n",
        "print(tf.version.VERSION)"
      ],
      "execution_count": 0,
      "outputs": [
        {
          "output_type": "stream",
          "text": [
            "2.0.0\n"
          ],
          "name": "stdout"
        }
      ]
    },
    {
      "cell_type": "code",
      "metadata": {
        "id": "RbLs6EWPQPtF",
        "colab_type": "code",
        "colab": {}
      },
      "source": [
        "from __future__ import absolute_import, division, print_function, unicode_literals\n",
        "\n",
        "import os\n",
        "import numpy as np\n",
        "import matplotlib.pyplot as plt"
      ],
      "execution_count": 0,
      "outputs": []
    },
    {
      "cell_type": "markdown",
      "metadata": {
        "id": "XD_rJuXIN5nh",
        "colab_type": "text"
      },
      "source": [
        "Mount google drive"
      ]
    },
    {
      "cell_type": "code",
      "metadata": {
        "id": "teoXzXeeNSVR",
        "colab_type": "code",
        "outputId": "d515c487-5e4f-4327-8bcb-cbaa19f0eb6c",
        "colab": {
          "base_uri": "https://localhost:8080/",
          "height": 128
        }
      },
      "source": [
        "from google.colab import drive\n",
        "drive.mount('/content/drive', force_remount=True)"
      ],
      "execution_count": 0,
      "outputs": [
        {
          "output_type": "stream",
          "text": [
            "Go to this URL in a browser: https://accounts.google.com/o/oauth2/auth?client_id=947318989803-6bn6qk8qdgf4n4g3pfee6491hc0brc4i.apps.googleusercontent.com&redirect_uri=urn%3aietf%3awg%3aoauth%3a2.0%3aoob&response_type=code&scope=email%20https%3a%2f%2fwww.googleapis.com%2fauth%2fdocs.test%20https%3a%2f%2fwww.googleapis.com%2fauth%2fdrive%20https%3a%2f%2fwww.googleapis.com%2fauth%2fdrive.photos.readonly%20https%3a%2f%2fwww.googleapis.com%2fauth%2fpeopleapi.readonly\n",
            "\n",
            "Enter your authorization code:\n",
            "··········\n",
            "Mounted at /content/drive\n"
          ],
          "name": "stdout"
        }
      ]
    },
    {
      "cell_type": "code",
      "metadata": {
        "id": "pR8J3RqIXQbv",
        "colab_type": "code",
        "outputId": "92342032-b862-4a91-ff4e-33b240a15933",
        "colab": {
          "base_uri": "https://localhost:8080/",
          "height": 199
        }
      },
      "source": [
        "predictor = open('/content/drive/My Drive/speedchallenge/train.txt', 'r').readlines()\n",
        "predictor = list(map(lambda x: float(x), predictor))\n",
        "values_ds = tf.data.Dataset.from_tensor_slices(tf.cast(predictor, tf.double))\n",
        "\n",
        "for label in values_ds.take(10):\n",
        "  print(label)"
      ],
      "execution_count": 0,
      "outputs": [
        {
          "output_type": "stream",
          "text": [
            "tf.Tensor(28.10556983947754, shape=(), dtype=float64)\n",
            "tf.Tensor(28.10556983947754, shape=(), dtype=float64)\n",
            "tf.Tensor(28.10652732849121, shape=(), dtype=float64)\n",
            "tf.Tensor(28.130403518676758, shape=(), dtype=float64)\n",
            "tf.Tensor(28.109243392944336, shape=(), dtype=float64)\n",
            "tf.Tensor(28.088571548461914, shape=(), dtype=float64)\n",
            "tf.Tensor(28.034210205078125, shape=(), dtype=float64)\n",
            "tf.Tensor(28.018491744995117, shape=(), dtype=float64)\n",
            "tf.Tensor(27.986623764038086, shape=(), dtype=float64)\n",
            "tf.Tensor(28.0163516998291, shape=(), dtype=float64)\n"
          ],
          "name": "stdout"
        }
      ]
    },
    {
      "cell_type": "code",
      "metadata": {
        "id": "hpniQtO3Pq6-",
        "colab_type": "code",
        "outputId": "310c8832-6187-41fb-8138-e4a8f341b604",
        "colab": {
          "base_uri": "https://localhost:8080/",
          "height": 35
        }
      },
      "source": [
        "images_dir = r'./drive/My Drive/speedchallenge/absdiff_frames'\n",
        "print(\"Number of training frames: \", len(os.listdir(images_dir)))"
      ],
      "execution_count": 0,
      "outputs": [
        {
          "output_type": "stream",
          "text": [
            "Number of training frames:  20400\n"
          ],
          "name": "stdout"
        }
      ]
    },
    {
      "cell_type": "code",
      "metadata": {
        "id": "CUkZ2a76R6No",
        "colab_type": "code",
        "colab": {}
      },
      "source": [
        "BATCH_SIZE = 100\n",
        "IMG_WIDTH = 320\n",
        "IMG_HEIGTH = 240\n",
        "IMG_SHAPE = (IMG_HEIGTH, IMG_WIDTH)"
      ],
      "execution_count": 0,
      "outputs": []
    },
    {
      "cell_type": "markdown",
      "metadata": {
        "id": "nm31MDGzStzv",
        "colab_type": "text"
      },
      "source": [
        "Creating images generator"
      ]
    },
    {
      "cell_type": "markdown",
      "metadata": {
        "id": "0-OxBhk8a0lN",
        "colab_type": "text"
      },
      "source": [
        "FOR NOT IMAGE GENERATOR IS NOT USED,\n",
        "IDK how to connect it with labels\n"
      ]
    },
    {
      "cell_type": "code",
      "metadata": {
        "id": "16Ga2ugpa-Sj",
        "colab_type": "code",
        "outputId": "0d9ab225-7c96-4f02-e22e-da4d98ebdaea",
        "colab": {
          "base_uri": "https://localhost:8080/",
          "height": 217
        }
      },
      "source": [
        "import pathlib\n",
        "import re\n",
        "\n",
        "data_root = pathlib.Path(images_dir)\n",
        "\n",
        "def sortSecond(val): \n",
        "    return val[1] \n",
        "    \n",
        "all_image_paths = list()\n",
        "for item in data_root.iterdir():\n",
        "    all_image_paths.append(item)\n",
        "\n",
        "all_image_paths = [str(path) for path in all_image_paths]\n",
        "sorted_image_paths = list(map(lambda path: (path, int(re.sub(\"[^0-9]\", \"\", path))), all_image_paths))\n",
        "#path_ds = tf.data.Dataset.from_tensor_slices(all_image_paths)\n",
        "sorted_image_paths.sort(key=sortSecond)\n",
        "sorted_image_paths = list(map(lambda pathTuple: pathTuple[0] , sorted_image_paths))\n",
        "sorted_image_paths[:11]"
      ],
      "execution_count": 0,
      "outputs": [
        {
          "output_type": "execute_result",
          "data": {
            "text/plain": [
              "['drive/My Drive/speedchallenge/absdiff_frames/frame_0.png',\n",
              " 'drive/My Drive/speedchallenge/absdiff_frames/frame_1.png',\n",
              " 'drive/My Drive/speedchallenge/absdiff_frames/frame_2.png',\n",
              " 'drive/My Drive/speedchallenge/absdiff_frames/frame_3.png',\n",
              " 'drive/My Drive/speedchallenge/absdiff_frames/frame_4.png',\n",
              " 'drive/My Drive/speedchallenge/absdiff_frames/frame_5.png',\n",
              " 'drive/My Drive/speedchallenge/absdiff_frames/frame_6.png',\n",
              " 'drive/My Drive/speedchallenge/absdiff_frames/frame_7.png',\n",
              " 'drive/My Drive/speedchallenge/absdiff_frames/frame_8.png',\n",
              " 'drive/My Drive/speedchallenge/absdiff_frames/frame_9.png',\n",
              " 'drive/My Drive/speedchallenge/absdiff_frames/frame_10.png']"
            ]
          },
          "metadata": {
            "tags": []
          },
          "execution_count": 11
        }
      ]
    },
    {
      "cell_type": "code",
      "metadata": {
        "id": "Ti6bHD-wftvw",
        "colab_type": "code",
        "outputId": "376028af-3277-4661-f2c7-4b5b7f5397d7",
        "colab": {
          "base_uri": "https://localhost:8080/",
          "height": 35
        }
      },
      "source": [
        "def preprocess_image(image):\n",
        "    image = tf.image.decode_png(image, channels=3)\n",
        "    image = tf.image.resize(image, [IMG_HEIGTH, IMG_WIDTH])\n",
        "    image /= 255.0\n",
        "    return image\n",
        "\n",
        "def load_and_process_image(image_path):\n",
        "    image = tf.io.read_file(image_path)\n",
        "    return preprocess_image(image)\n",
        "\n",
        "path_ds = tf.data.Dataset.from_tensor_slices(sorted_image_paths)\n",
        "image_ds = path_ds.map(load_and_process_image)\n",
        "image_ds"
      ],
      "execution_count": 0,
      "outputs": [
        {
          "output_type": "execute_result",
          "data": {
            "text/plain": [
              "<MapDataset shapes: (240, 320, 3), types: tf.float32>"
            ]
          },
          "metadata": {
            "tags": []
          },
          "execution_count": 12
        }
      ]
    },
    {
      "cell_type": "markdown",
      "metadata": {
        "id": "XzV1yjVUgNLy",
        "colab_type": "text"
      },
      "source": [
        "Creating ZIP form labels and images"
      ]
    },
    {
      "cell_type": "code",
      "metadata": {
        "id": "wyesgKq2gZgh",
        "colab_type": "code",
        "outputId": "e8d4f606-2fe1-4fda-ee30-6f7102a93867",
        "colab": {
          "base_uri": "https://localhost:8080/",
          "height": 35
        }
      },
      "source": [
        "image_label_ds = tf.data.Dataset.zip((image_ds, values_ds))\n",
        "print(\"DataSet: \", image_label_ds)"
      ],
      "execution_count": 0,
      "outputs": [
        {
          "output_type": "stream",
          "text": [
            "DataSet:  <ZipDataset shapes: ((240, 320, 3), ()), types: (tf.float32, tf.float64)>\n"
          ],
          "name": "stdout"
        }
      ]
    },
    {
      "cell_type": "markdown",
      "metadata": {
        "id": "fV2WNWMST2PQ",
        "colab_type": "text"
      },
      "source": [
        "Define model"
      ]
    },
    {
      "cell_type": "code",
      "metadata": {
        "id": "XYSdDYFPT3h2",
        "colab_type": "code",
        "colab": {}
      },
      "source": [
        "model = tf.keras.models.Sequential([\n",
        "    tf.keras.layers.Conv2D(32, (3,3), activation='relu', input_shape=(IMG_HEIGTH, IMG_WIDTH, 3)),\n",
        "    tf.keras.layers.MaxPooling2D(2, 2),\n",
        "\n",
        "    tf.keras.layers.Conv2D(64, (3,3), activation='relu'),\n",
        "    tf.keras.layers.MaxPooling2D(2,2),\n",
        "\n",
        "    tf.keras.layers.Conv2D(128, (3,3), activation='relu'),\n",
        "    tf.keras.layers.MaxPooling2D(2,2),\n",
        "\n",
        "    tf.keras.layers.Conv2D(128, (3,3), activation='relu'),\n",
        "    tf.keras.layers.MaxPooling2D(2,2),\n",
        "\n",
        "    tf.keras.layers.Dropout(0.5),\n",
        "    tf.keras.layers.Flatten(),\n",
        "    tf.keras.layers.Dense(512, activation='relu'),\n",
        "    tf.keras.layers.Dense(1)\n",
        "])"
      ],
      "execution_count": 0,
      "outputs": []
    },
    {
      "cell_type": "code",
      "metadata": {
        "id": "UEHFH5cUVlbd",
        "colab_type": "code",
        "outputId": "f5bbb792-ae18-4644-8f1b-c508aa6b170d",
        "colab": {
          "base_uri": "https://localhost:8080/",
          "height": 599
        }
      },
      "source": [
        "model.compile(optimizer='adam', \n",
        "              loss='mean_squared_error',\n",
        "              metrics=['mean_squared_error'])\n",
        "\n",
        "model.summary()"
      ],
      "execution_count": 0,
      "outputs": [
        {
          "output_type": "stream",
          "text": [
            "Model: \"sequential\"\n",
            "_________________________________________________________________\n",
            "Layer (type)                 Output Shape              Param #   \n",
            "=================================================================\n",
            "conv2d (Conv2D)              (None, 238, 318, 32)      896       \n",
            "_________________________________________________________________\n",
            "max_pooling2d (MaxPooling2D) (None, 119, 159, 32)      0         \n",
            "_________________________________________________________________\n",
            "conv2d_1 (Conv2D)            (None, 117, 157, 64)      18496     \n",
            "_________________________________________________________________\n",
            "max_pooling2d_1 (MaxPooling2 (None, 58, 78, 64)        0         \n",
            "_________________________________________________________________\n",
            "conv2d_2 (Conv2D)            (None, 56, 76, 128)       73856     \n",
            "_________________________________________________________________\n",
            "max_pooling2d_2 (MaxPooling2 (None, 28, 38, 128)       0         \n",
            "_________________________________________________________________\n",
            "conv2d_3 (Conv2D)            (None, 26, 36, 128)       147584    \n",
            "_________________________________________________________________\n",
            "max_pooling2d_3 (MaxPooling2 (None, 13, 18, 128)       0         \n",
            "_________________________________________________________________\n",
            "dropout (Dropout)            (None, 13, 18, 128)       0         \n",
            "_________________________________________________________________\n",
            "flatten (Flatten)            (None, 29952)             0         \n",
            "_________________________________________________________________\n",
            "dense (Dense)                (None, 512)               15335936  \n",
            "_________________________________________________________________\n",
            "dense_1 (Dense)              (None, 1)                 513       \n",
            "=================================================================\n",
            "Total params: 15,577,281\n",
            "Trainable params: 15,577,281\n",
            "Non-trainable params: 0\n",
            "_________________________________________________________________\n"
          ],
          "name": "stdout"
        }
      ]
    },
    {
      "cell_type": "code",
      "metadata": {
        "id": "xAOQ2Vigiavb",
        "colab_type": "code",
        "colab": {}
      },
      "source": [
        "image_label_ds = image_label_ds.shuffle(3670)\n",
        "\n",
        "train_ds = image_label_ds.take(int(0.8*20400))\n",
        "temp_ds = image_label_ds.skip(int(0.8*20400))\n",
        "\n",
        "cross_validation_ds = temp_ds.take(int(0.8*20400*0.05))\n",
        "test_ds = temp_ds.skip(int(0.8*20400*0.05))\n",
        "\n",
        "train_batches = train_ds.shuffle(3670).batch(BATCH_SIZE).prefetch(1)\n",
        "test_batches = test_ds.shuffle(3670).batch(BATCH_SIZE).prefetch(1)\n",
        "cross_validation_ds = cross_validation_ds.shuffle(3670).batch(BATCH_SIZE).prefetch(1)"
      ],
      "execution_count": 0,
      "outputs": []
    },
    {
      "cell_type": "code",
      "metadata": {
        "id": "iN0mRwEiVyPX",
        "colab_type": "code",
        "outputId": "788ec7db-9b8a-4650-c73f-b0071ee4c91a",
        "colab": {
          "base_uri": "https://localhost:8080/",
          "height": 381
        }
      },
      "source": [
        "epochs=10\n",
        "history = model.fit(\n",
        "    train_batches,\n",
        "    epochs=epochs,\n",
        "    validation_data=test_batches,\n",
        "    verbose=2,\n",
        ")"
      ],
      "execution_count": 0,
      "outputs": [
        {
          "output_type": "stream",
          "text": [
            "Epoch 1/10\n",
            "164/164 - 5537s - loss: 28.5560 - mean_squared_error: 28.6491 - val_loss: 0.0000e+00 - val_mean_squared_error: 0.0000e+00\n",
            "Epoch 2/10\n",
            "164/164 - 188s - loss: 10.9353 - mean_squared_error: 10.9258 - val_loss: 3.4849 - val_mean_squared_error: 3.4853\n",
            "Epoch 3/10\n",
            "164/164 - 184s - loss: 7.0749 - mean_squared_error: 7.0733 - val_loss: 3.0806 - val_mean_squared_error: 3.0825\n",
            "Epoch 4/10\n",
            "164/164 - 185s - loss: 5.1170 - mean_squared_error: 5.1191 - val_loss: 2.3860 - val_mean_squared_error: 2.3877\n",
            "Epoch 5/10\n",
            "164/164 - 186s - loss: 3.8370 - mean_squared_error: 3.8339 - val_loss: 1.5933 - val_mean_squared_error: 1.5958\n",
            "Epoch 6/10\n",
            "164/164 - 188s - loss: 3.2491 - mean_squared_error: 3.2467 - val_loss: 4.7974 - val_mean_squared_error: 4.7839\n",
            "Epoch 7/10\n",
            "164/164 - 184s - loss: 2.7193 - mean_squared_error: 2.7190 - val_loss: 1.0824 - val_mean_squared_error: 1.0843\n",
            "Epoch 8/10\n",
            "164/164 - 182s - loss: 2.2199 - mean_squared_error: 2.2180 - val_loss: 0.9018 - val_mean_squared_error: 0.9036\n",
            "Epoch 9/10\n",
            "164/164 - 185s - loss: 1.9757 - mean_squared_error: 1.9754 - val_loss: 1.0858 - val_mean_squared_error: 1.0878\n",
            "Epoch 10/10\n",
            "164/164 - 183s - loss: 1.7908 - mean_squared_error: 1.7895 - val_loss: 0.7284 - val_mean_squared_error: 0.7259\n"
          ],
          "name": "stdout"
        }
      ]
    },
    {
      "cell_type": "code",
      "metadata": {
        "id": "Bx7G2p3KR0O8",
        "colab_type": "code",
        "outputId": "3f7eea19-7bcb-4954-80b5-c4b6dab6ec39",
        "colab": {
          "base_uri": "https://localhost:8080/",
          "height": 499
        }
      },
      "source": [
        "mse = history.history['mean_squared_error']\n",
        "val_mse = history.history['val_mean_squared_error']\n",
        "\n",
        "loss = history.history['loss']\n",
        "val_loss = history.history['val_loss']\n",
        "\n",
        "epochs_range = range(epochs)\n",
        "\n",
        "plt.figure(figsize=(8, 8))\n",
        "plt.subplot(1, 2, 1)\n",
        "plt.plot(epochs_range, mse, label='Training MSE')\n",
        "plt.plot(epochs_range, val_mse, label='Validation MSE')\n",
        "plt.legend(loc='lower right')\n",
        "plt.title('Training and Validation MSE')\n",
        "\n",
        "plt.subplot(1, 2, 2)\n",
        "plt.plot(epochs_range, loss, label='Training Loss')\n",
        "plt.plot(epochs_range, val_loss, label='Validation Loss')\n",
        "plt.legend(loc='upper right')\n",
        "plt.title('Training and Validation Loss')\n",
        "plt.show()"
      ],
      "execution_count": 0,
      "outputs": [
        {
          "output_type": "display_data",
          "data": {
            "image/png": "[encoded data removed]",
            "text/plain": [
              "<Figure size 576x576 with 2 Axes>"
            ]
          },
          "metadata": {
            "tags": []
          }
        }
      ]
    },
    {
      "cell_type": "code",
      "metadata": {
        "id": "QDzZHBC5dHhQ",
        "colab_type": "code",
        "outputId": "90aea58c-5a66-4abd-d857-495f836009ea",
        "colab": {
          "base_uri": "https://localhost:8080/",
          "height": 34
        }
      },
      "source": [
        "print(2)"
      ],
      "execution_count": 0,
      "outputs": [
        {
          "output_type": "stream",
          "text": [
            "2\n"
          ],
          "name": "stdout"
        }
      ]
    },
    {
      "cell_type": "code",
      "metadata": {
        "id": "yraH-0NMFgRo",
        "colab_type": "code",
        "colab": {}
      },
      "source": [
        "test_ds = tf.data.Dataset.zip((image_ds, values_ds))"
      ],
      "execution_count": 0,
      "outputs": []
    },
    {
      "cell_type": "code",
      "metadata": {
        "id": "HoGxDlKxdKI3",
        "colab_type": "code",
        "colab": {}
      },
      "source": [
        "image_batch, label_batch = next(iter(image_label_ds.take(10)))\n",
        "#image_batch = image_batch.numpy()\n",
        "#result_batch = model.predict(image_batch)"
      ],
      "execution_count": 0,
      "outputs": []
    },
    {
      "cell_type": "code",
      "metadata": {
        "id": "D9w4uadZlV3z",
        "colab_type": "code",
        "colab": {}
      },
      "source": [
        "test = image_batch.reshape(1, 240, 320, 3)\n",
        "result_batch = model.predict(test)"
      ],
      "execution_count": 0,
      "outputs": []
    },
    {
      "cell_type": "code",
      "metadata": {
        "id": "Jl_M9Po8l70B",
        "colab_type": "code",
        "outputId": "4569d5d2-a8ba-4cd3-8ae2-7256d25359a7",
        "colab": {
          "base_uri": "https://localhost:8080/",
          "height": 51
        }
      },
      "source": [
        "print(result_batch)\n",
        "print(label_batch)"
      ],
      "execution_count": 0,
      "outputs": [
        {
          "output_type": "stream",
          "text": [
            "[[26.543022]]\n",
            "tf.Tensor(28.10556983947754, shape=(), dtype=float64)\n"
          ],
          "name": "stdout"
        }
      ]
    },
    {
      "cell_type": "markdown",
      "metadata": {
        "id": "RxTFgdU9nRfy",
        "colab_type": "text"
      },
      "source": [
        "#Saving model\n"
      ]
    },
    {
      "cell_type": "code",
      "metadata": {
        "id": "ZEpOaAXAnTWO",
        "colab_type": "code",
        "colab": {}
      },
      "source": [
        "!pip install -q pyyaml h5py  # Required to save models in HDF5 format"
      ],
      "execution_count": 0,
      "outputs": []
    },
    {
      "cell_type": "code",
      "metadata": {
        "id": "amezVvLxnZKY",
        "colab_type": "code",
        "colab": {}
      },
      "source": [
        "# Save the entire model to a HDF5 file.\n",
        "# The '.h5' extension indicates that the model shuold be saved to HDF5.\n",
        "speedchallenge_path = r'./drive/My Drive/speedchallenge/commaai_model_absdiff.h5';\n",
        "model.save(speedchallenge_path) "
      ],
      "execution_count": 0,
      "outputs": []
    }
  ]
}